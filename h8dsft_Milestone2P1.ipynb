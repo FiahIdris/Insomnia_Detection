{
 "cells": [
  {
   "cell_type": "markdown",
   "metadata": {},
   "source": [
    "### INTRODUCTION"
   ]
  },
  {
   "cell_type": "markdown",
   "metadata": {},
   "source": [
    "**About Dataset**  \n",
    "\n",
    "id - person's identificator  \n",
    "age - person's age in years  \n",
    "weight- person's weight in kilograms  \n",
    "height- person's height in centimeters  \n",
    "sex - person's sex  \n",
    "stress - level of stress during last month (1, 2, 3 - higher values correspond to larger stress)  \n",
    "doctor - relative number of visits to doctor previously (1, 2, 3 - higher values correspond to greater number of visits)  \n",
    "sport - is person physically active or not (binary)  \n",
    "pernicious_1 - does person have some bad habit or not (binary)  \n",
    "pernicious_2 - does person have some another bad habit or not (binary)  \n",
    "ubp/lbp - upper/lower blood pressure in mmHg  \n",
    "insomnia - target, does person have sleep disorder or not (binary)  "
   ]
  },
  {
   "cell_type": "markdown",
   "metadata": {},
   "source": [
    "This dataset consists of 70000 instances with 13 kinds of information."
   ]
  },
  {
   "cell_type": "markdown",
   "metadata": {},
   "source": [
    "### LIBRARY"
   ]
  },
  {
   "cell_type": "code",
   "execution_count": 1,
   "metadata": {},
   "outputs": [],
   "source": [
    "\n",
    "# Standard modules\n",
    "import warnings\n",
    "warnings.filterwarnings(\"ignore\")\n",
    "import pandas as pd \n",
    "import numpy as np\n",
    "import matplotlib.pyplot as plt\n",
    "import seaborn as sns\n",
    "\n",
    "\n",
    "# Preprocessing modules\n",
    "from sklearn.pipeline import Pipeline\n",
    "from sklearn.compose import ColumnTransformer\n",
    "from sklearn.linear_model import LogisticRegression\n",
    "from sklearn.preprocessing import StandardScaler, MinMaxScaler, RobustScaler, OneHotEncoder\n",
    "from sklearn.model_selection import train_test_split, GridSearchCV, cross_val_score\n",
    "from sklearn.base import TransformerMixin\n",
    "\n",
    "# Machine Learning metrics\n",
    "from sklearn.metrics import accuracy_score,classification_report, plot_confusion_matrix\n",
    "\n",
    "# Machine Learning model\n",
    "from sklearn.svm import SVC\n",
    "from sklearn.cluster import KMeans\n",
    "from sklearn.neighbors import KNeighborsClassifier\n",
    "from sklearn.ensemble import RandomForestClassifier, AdaBoostClassifier\n",
    "from sklearn.naive_bayes import GaussianNB\n",
    "\n",
    "# Deployment purposes\n",
    "import joblib\n",
    "\n",
    "# import os\n",
    "# for dirname, _, filenames in os.walk('/kaggle/input'):\n",
    "#     for filename in filenames:\n",
    "#         print(os.path.join(dirname, filename))"
   ]
  },
  {
   "cell_type": "markdown",
   "metadata": {},
   "source": [
    "### DATA LOADING AND CLEANING"
   ]
  },
  {
   "cell_type": "markdown",
   "metadata": {},
   "source": [
    "#### Loading Data Train"
   ]
  },
  {
   "cell_type": "code",
   "execution_count": 2,
   "metadata": {},
   "outputs": [],
   "source": [
    "df_raw = pd.read_csv(\"TRAIN.csv\")"
   ]
  },
  {
   "cell_type": "code",
   "execution_count": 3,
   "metadata": {},
   "outputs": [
    {
     "data": {
      "text/plain": [
       "(70000, 13)"
      ]
     },
     "execution_count": 3,
     "metadata": {},
     "output_type": "execute_result"
    }
   ],
   "source": [
    "df = df_raw.copy()\n",
    "df.shape"
   ]
  },
  {
   "cell_type": "code",
   "execution_count": 4,
   "metadata": {},
   "outputs": [
    {
     "name": "stdout",
     "output_type": "stream",
     "text": [
      "Total data train: 56000\n",
      "Total data test: 14000\n"
     ]
    }
   ],
   "source": [
    "# Split dataset into train and test data.\n",
    "train, test = train_test_split(df, test_size = 0.2, stratify= df.insomnia)\n",
    "print(f\"Total data train: {train.shape[0]}\")\n",
    "print(f\"Total data test: {test.shape[0]}\")"
   ]
  },
  {
   "cell_type": "code",
   "execution_count": 5,
   "metadata": {},
   "outputs": [
    {
     "data": {
      "text/html": [
       "<div>\n",
       "<style scoped>\n",
       "    .dataframe tbody tr th:only-of-type {\n",
       "        vertical-align: middle;\n",
       "    }\n",
       "\n",
       "    .dataframe tbody tr th {\n",
       "        vertical-align: top;\n",
       "    }\n",
       "\n",
       "    .dataframe thead th {\n",
       "        text-align: right;\n",
       "    }\n",
       "</style>\n",
       "<table border=\"1\" class=\"dataframe\">\n",
       "  <thead>\n",
       "    <tr style=\"text-align: right;\">\n",
       "      <th></th>\n",
       "      <th>id</th>\n",
       "      <th>age</th>\n",
       "      <th>weight</th>\n",
       "      <th>height</th>\n",
       "      <th>sex</th>\n",
       "      <th>stress</th>\n",
       "      <th>doctor</th>\n",
       "      <th>sport</th>\n",
       "      <th>pernicious_1</th>\n",
       "      <th>pernicious_2</th>\n",
       "      <th>ubp</th>\n",
       "      <th>lbp</th>\n",
       "      <th>insomnia</th>\n",
       "    </tr>\n",
       "  </thead>\n",
       "  <tbody>\n",
       "    <tr>\n",
       "      <th>34948</th>\n",
       "      <td>49919</td>\n",
       "      <td>58.039699</td>\n",
       "      <td>86.0</td>\n",
       "      <td>162</td>\n",
       "      <td>1</td>\n",
       "      <td>1</td>\n",
       "      <td>1</td>\n",
       "      <td>1</td>\n",
       "      <td>0</td>\n",
       "      <td>0</td>\n",
       "      <td>120</td>\n",
       "      <td>80</td>\n",
       "      <td>0</td>\n",
       "    </tr>\n",
       "    <tr>\n",
       "      <th>52464</th>\n",
       "      <td>74833</td>\n",
       "      <td>59.592060</td>\n",
       "      <td>69.0</td>\n",
       "      <td>161</td>\n",
       "      <td>2</td>\n",
       "      <td>1</td>\n",
       "      <td>1</td>\n",
       "      <td>0</td>\n",
       "      <td>0</td>\n",
       "      <td>0</td>\n",
       "      <td>160</td>\n",
       "      <td>100</td>\n",
       "      <td>1</td>\n",
       "    </tr>\n",
       "    <tr>\n",
       "      <th>12615</th>\n",
       "      <td>18008</td>\n",
       "      <td>59.707050</td>\n",
       "      <td>80.0</td>\n",
       "      <td>163</td>\n",
       "      <td>1</td>\n",
       "      <td>1</td>\n",
       "      <td>1</td>\n",
       "      <td>1</td>\n",
       "      <td>0</td>\n",
       "      <td>0</td>\n",
       "      <td>130</td>\n",
       "      <td>100</td>\n",
       "      <td>1</td>\n",
       "    </tr>\n",
       "    <tr>\n",
       "      <th>54265</th>\n",
       "      <td>77383</td>\n",
       "      <td>53.927447</td>\n",
       "      <td>56.0</td>\n",
       "      <td>162</td>\n",
       "      <td>1</td>\n",
       "      <td>1</td>\n",
       "      <td>1</td>\n",
       "      <td>1</td>\n",
       "      <td>0</td>\n",
       "      <td>0</td>\n",
       "      <td>120</td>\n",
       "      <td>80</td>\n",
       "      <td>0</td>\n",
       "    </tr>\n",
       "    <tr>\n",
       "      <th>1134</th>\n",
       "      <td>1574</td>\n",
       "      <td>41.897331</td>\n",
       "      <td>63.0</td>\n",
       "      <td>158</td>\n",
       "      <td>2</td>\n",
       "      <td>1</td>\n",
       "      <td>1</td>\n",
       "      <td>1</td>\n",
       "      <td>0</td>\n",
       "      <td>1</td>\n",
       "      <td>120</td>\n",
       "      <td>80</td>\n",
       "      <td>0</td>\n",
       "    </tr>\n",
       "  </tbody>\n",
       "</table>\n",
       "</div>"
      ],
      "text/plain": [
       "          id        age  weight  height  sex  stress  doctor  sport  \\\n",
       "34948  49919  58.039699    86.0     162    1       1       1      1   \n",
       "52464  74833  59.592060    69.0     161    2       1       1      0   \n",
       "12615  18008  59.707050    80.0     163    1       1       1      1   \n",
       "54265  77383  53.927447    56.0     162    1       1       1      1   \n",
       "1134    1574  41.897331    63.0     158    2       1       1      1   \n",
       "\n",
       "       pernicious_1  pernicious_2  ubp  lbp  insomnia  \n",
       "34948             0             0  120   80         0  \n",
       "52464             0             0  160  100         1  \n",
       "12615             0             0  130  100         1  \n",
       "54265             0             0  120   80         0  \n",
       "1134              0             1  120   80         0  "
      ]
     },
     "execution_count": 5,
     "metadata": {},
     "output_type": "execute_result"
    }
   ],
   "source": [
    "train.head()"
   ]
  },
  {
   "cell_type": "code",
   "execution_count": 6,
   "metadata": {},
   "outputs": [],
   "source": [
    "X_train = train.copy()\n",
    "X_test = test.copy()"
   ]
  },
  {
   "cell_type": "markdown",
   "metadata": {},
   "source": [
    "#### Find Missing Value"
   ]
  },
  {
   "cell_type": "code",
   "execution_count": 7,
   "metadata": {},
   "outputs": [],
   "source": [
    "# Create function for check missing value, unique value, datatype\n",
    "def show_general_table(data):\n",
    "    # Find dataset misisng values.\n",
    "    dataset_info = data.isnull().sum()/data.shape[0]*100\n",
    "    dataset_info = dataset_info.reset_index()\n",
    "    dataset_info = dataset_info.rename(columns={'index': 'column_name',0:'missing %'})\n",
    "    # Find dataset types.\n",
    "    types = data.dtypes.reset_index()\n",
    "    types = types.rename(columns = {0:'type'})\n",
    "    dataset_info['type'] = types['type']\n",
    "    # Find dataset total uniques.\n",
    "    uniques= data.nunique().reset_index()\n",
    "    uniques = uniques.rename(columns = {0:'unique'})\n",
    "    dataset_info['unique'] = uniques['unique']\n",
    "    print(dataset_info)\n"
   ]
  },
  {
   "cell_type": "code",
   "execution_count": 8,
   "metadata": {},
   "outputs": [
    {
     "name": "stdout",
     "output_type": "stream",
     "text": [
      "     column_name  missing %     type  unique\n",
      "0             id        0.0    int64   56000\n",
      "1            age        0.0  float64    7901\n",
      "2         weight        0.0  float64     260\n",
      "3         height        0.0    int64     102\n",
      "4            sex        0.0    int64       2\n",
      "5         stress        0.0    int64       3\n",
      "6         doctor        0.0    int64       3\n",
      "7          sport        0.0    int64       2\n",
      "8   pernicious_1        0.0    int64       2\n",
      "9   pernicious_2        0.0    int64       2\n",
      "10           ubp        0.0    int64     147\n",
      "11           lbp        0.0    int64     152\n",
      "12      insomnia        0.0    int64       2\n"
     ]
    }
   ],
   "source": [
    "# X_train info\n",
    "show_general_table(X_train)"
   ]
  },
  {
   "cell_type": "code",
   "execution_count": 9,
   "metadata": {},
   "outputs": [
    {
     "name": "stdout",
     "output_type": "stream",
     "text": [
      "     column_name  missing %     type  unique\n",
      "0             id        0.0    int64   14000\n",
      "1            age        0.0  float64    5886\n",
      "2         weight        0.0  float64     158\n",
      "3         height        0.0    int64      78\n",
      "4            sex        0.0    int64       2\n",
      "5         stress        0.0    int64       3\n",
      "6         doctor        0.0    int64       3\n",
      "7          sport        0.0    int64       2\n",
      "8   pernicious_1        0.0    int64       2\n",
      "9   pernicious_2        0.0    int64       2\n",
      "10           ubp        0.0    int64     104\n",
      "11           lbp        0.0    int64      85\n",
      "12      insomnia        0.0    int64       2\n"
     ]
    }
   ],
   "source": [
    "# X_test info\n",
    "show_general_table(X_test)"
   ]
  },
  {
   "cell_type": "markdown",
   "metadata": {},
   "source": [
    "Train and Test Data:\n",
    "- There is no missing value found either on train data or test data.\n",
    "- Data consist of 6 numerical type of data (continues) when others are categorical that encoded tobe numerical like sex, stress, doctor, sport, pernicious_1, pernicious_2, and insomnia (discrit)."
   ]
  },
  {
   "cell_type": "markdown",
   "metadata": {},
   "source": [
    "#### Find Duplicate Value"
   ]
  },
  {
   "cell_type": "code",
   "execution_count": 10,
   "metadata": {},
   "outputs": [
    {
     "name": "stdout",
     "output_type": "stream",
     "text": [
      "There is 0 duplicate value found on data train.\n",
      "There is 0 duplicate value found on data test.\n"
     ]
    }
   ],
   "source": [
    "train_duplicate_value = X_train.duplicated().sum()\n",
    "test_duplicate_value = X_train.duplicated().sum()\n",
    "print(f\"There is {train_duplicate_value} duplicate value found on data train.\")\n",
    "print(f\"There is {test_duplicate_value} duplicate value found on data test.\")"
   ]
  },
  {
   "cell_type": "markdown",
   "metadata": {},
   "source": [
    "As a result of neither missing nor duplicate value on dataset, further action is unneccessary. And we are good to go for data exploration."
   ]
  },
  {
   "cell_type": "markdown",
   "metadata": {},
   "source": [
    "### EDA"
   ]
  },
  {
   "cell_type": "code",
   "execution_count": 11,
   "metadata": {},
   "outputs": [
    {
     "data": {
      "text/html": [
       "<div>\n",
       "<style scoped>\n",
       "    .dataframe tbody tr th:only-of-type {\n",
       "        vertical-align: middle;\n",
       "    }\n",
       "\n",
       "    .dataframe tbody tr th {\n",
       "        vertical-align: top;\n",
       "    }\n",
       "\n",
       "    .dataframe thead th {\n",
       "        text-align: right;\n",
       "    }\n",
       "</style>\n",
       "<table border=\"1\" class=\"dataframe\">\n",
       "  <thead>\n",
       "    <tr style=\"text-align: right;\">\n",
       "      <th></th>\n",
       "      <th>count</th>\n",
       "      <th>mean</th>\n",
       "      <th>std</th>\n",
       "      <th>min</th>\n",
       "      <th>25%</th>\n",
       "      <th>50%</th>\n",
       "      <th>75%</th>\n",
       "      <th>max</th>\n",
       "    </tr>\n",
       "  </thead>\n",
       "  <tbody>\n",
       "    <tr>\n",
       "      <th>id</th>\n",
       "      <td>56000.0</td>\n",
       "      <td>49988.469429</td>\n",
       "      <td>28840.697757</td>\n",
       "      <td>0.000000</td>\n",
       "      <td>24982.750000</td>\n",
       "      <td>50050.50000</td>\n",
       "      <td>74870.750000</td>\n",
       "      <td>99999.000000</td>\n",
       "    </tr>\n",
       "    <tr>\n",
       "      <th>age</th>\n",
       "      <td>56000.0</td>\n",
       "      <td>53.308823</td>\n",
       "      <td>6.755674</td>\n",
       "      <td>29.563313</td>\n",
       "      <td>48.372348</td>\n",
       "      <td>53.94935</td>\n",
       "      <td>58.392882</td>\n",
       "      <td>64.889802</td>\n",
       "    </tr>\n",
       "    <tr>\n",
       "      <th>weight</th>\n",
       "      <td>56000.0</td>\n",
       "      <td>74.160061</td>\n",
       "      <td>14.403164</td>\n",
       "      <td>10.000000</td>\n",
       "      <td>65.000000</td>\n",
       "      <td>72.00000</td>\n",
       "      <td>82.000000</td>\n",
       "      <td>200.000000</td>\n",
       "    </tr>\n",
       "    <tr>\n",
       "      <th>height</th>\n",
       "      <td>56000.0</td>\n",
       "      <td>164.352339</td>\n",
       "      <td>8.169667</td>\n",
       "      <td>55.000000</td>\n",
       "      <td>159.000000</td>\n",
       "      <td>165.00000</td>\n",
       "      <td>170.000000</td>\n",
       "      <td>207.000000</td>\n",
       "    </tr>\n",
       "    <tr>\n",
       "      <th>sex</th>\n",
       "      <td>56000.0</td>\n",
       "      <td>1.350107</td>\n",
       "      <td>0.477008</td>\n",
       "      <td>1.000000</td>\n",
       "      <td>1.000000</td>\n",
       "      <td>1.00000</td>\n",
       "      <td>2.000000</td>\n",
       "      <td>2.000000</td>\n",
       "    </tr>\n",
       "    <tr>\n",
       "      <th>stress</th>\n",
       "      <td>56000.0</td>\n",
       "      <td>1.367714</td>\n",
       "      <td>0.680657</td>\n",
       "      <td>1.000000</td>\n",
       "      <td>1.000000</td>\n",
       "      <td>1.00000</td>\n",
       "      <td>2.000000</td>\n",
       "      <td>3.000000</td>\n",
       "    </tr>\n",
       "    <tr>\n",
       "      <th>doctor</th>\n",
       "      <td>56000.0</td>\n",
       "      <td>1.226321</td>\n",
       "      <td>0.571963</td>\n",
       "      <td>1.000000</td>\n",
       "      <td>1.000000</td>\n",
       "      <td>1.00000</td>\n",
       "      <td>1.000000</td>\n",
       "      <td>3.000000</td>\n",
       "    </tr>\n",
       "    <tr>\n",
       "      <th>sport</th>\n",
       "      <td>56000.0</td>\n",
       "      <td>0.803571</td>\n",
       "      <td>0.397300</td>\n",
       "      <td>0.000000</td>\n",
       "      <td>1.000000</td>\n",
       "      <td>1.00000</td>\n",
       "      <td>1.000000</td>\n",
       "      <td>1.000000</td>\n",
       "    </tr>\n",
       "    <tr>\n",
       "      <th>pernicious_1</th>\n",
       "      <td>56000.0</td>\n",
       "      <td>0.087589</td>\n",
       "      <td>0.282699</td>\n",
       "      <td>0.000000</td>\n",
       "      <td>0.000000</td>\n",
       "      <td>0.00000</td>\n",
       "      <td>0.000000</td>\n",
       "      <td>1.000000</td>\n",
       "    </tr>\n",
       "    <tr>\n",
       "      <th>pernicious_2</th>\n",
       "      <td>56000.0</td>\n",
       "      <td>0.053804</td>\n",
       "      <td>0.225632</td>\n",
       "      <td>0.000000</td>\n",
       "      <td>0.000000</td>\n",
       "      <td>0.00000</td>\n",
       "      <td>0.000000</td>\n",
       "      <td>1.000000</td>\n",
       "    </tr>\n",
       "    <tr>\n",
       "      <th>ubp</th>\n",
       "      <td>56000.0</td>\n",
       "      <td>128.801411</td>\n",
       "      <td>154.049095</td>\n",
       "      <td>-150.000000</td>\n",
       "      <td>120.000000</td>\n",
       "      <td>120.00000</td>\n",
       "      <td>140.000000</td>\n",
       "      <td>16020.000000</td>\n",
       "    </tr>\n",
       "    <tr>\n",
       "      <th>lbp</th>\n",
       "      <td>56000.0</td>\n",
       "      <td>97.231232</td>\n",
       "      <td>197.794226</td>\n",
       "      <td>-70.000000</td>\n",
       "      <td>80.000000</td>\n",
       "      <td>80.00000</td>\n",
       "      <td>90.000000</td>\n",
       "      <td>11000.000000</td>\n",
       "    </tr>\n",
       "    <tr>\n",
       "      <th>insomnia</th>\n",
       "      <td>56000.0</td>\n",
       "      <td>0.499696</td>\n",
       "      <td>0.500004</td>\n",
       "      <td>0.000000</td>\n",
       "      <td>0.000000</td>\n",
       "      <td>0.00000</td>\n",
       "      <td>1.000000</td>\n",
       "      <td>1.000000</td>\n",
       "    </tr>\n",
       "  </tbody>\n",
       "</table>\n",
       "</div>"
      ],
      "text/plain": [
       "                count          mean           std         min           25%  \\\n",
       "id            56000.0  49988.469429  28840.697757    0.000000  24982.750000   \n",
       "age           56000.0     53.308823      6.755674   29.563313     48.372348   \n",
       "weight        56000.0     74.160061     14.403164   10.000000     65.000000   \n",
       "height        56000.0    164.352339      8.169667   55.000000    159.000000   \n",
       "sex           56000.0      1.350107      0.477008    1.000000      1.000000   \n",
       "stress        56000.0      1.367714      0.680657    1.000000      1.000000   \n",
       "doctor        56000.0      1.226321      0.571963    1.000000      1.000000   \n",
       "sport         56000.0      0.803571      0.397300    0.000000      1.000000   \n",
       "pernicious_1  56000.0      0.087589      0.282699    0.000000      0.000000   \n",
       "pernicious_2  56000.0      0.053804      0.225632    0.000000      0.000000   \n",
       "ubp           56000.0    128.801411    154.049095 -150.000000    120.000000   \n",
       "lbp           56000.0     97.231232    197.794226  -70.000000     80.000000   \n",
       "insomnia      56000.0      0.499696      0.500004    0.000000      0.000000   \n",
       "\n",
       "                      50%           75%           max  \n",
       "id            50050.50000  74870.750000  99999.000000  \n",
       "age              53.94935     58.392882     64.889802  \n",
       "weight           72.00000     82.000000    200.000000  \n",
       "height          165.00000    170.000000    207.000000  \n",
       "sex               1.00000      2.000000      2.000000  \n",
       "stress            1.00000      2.000000      3.000000  \n",
       "doctor            1.00000      1.000000      3.000000  \n",
       "sport             1.00000      1.000000      1.000000  \n",
       "pernicious_1      0.00000      0.000000      1.000000  \n",
       "pernicious_2      0.00000      0.000000      1.000000  \n",
       "ubp             120.00000    140.000000  16020.000000  \n",
       "lbp              80.00000     90.000000  11000.000000  \n",
       "insomnia          0.00000      1.000000      1.000000  "
      ]
     },
     "execution_count": 11,
     "metadata": {},
     "output_type": "execute_result"
    }
   ],
   "source": [
    "X_train.describe().T"
   ]
  },
  {
   "cell_type": "markdown",
   "metadata": {},
   "source": [
    "In this section, we will explore deeper into dataset in order to gain some insight init. Firstly, I am going to check distribution of each column."
   ]
  },
  {
   "cell_type": "code",
   "execution_count": 12,
   "metadata": {},
   "outputs": [
    {
     "data": {
      "image/png": "[encoded data removed]",
      "text/plain": [
       "<Figure size 864x720 with 16 Axes>"
      ]
     },
     "metadata": {
      "needs_background": "light"
     },
     "output_type": "display_data"
    }
   ],
   "source": [
    "# Display distribution.\n",
    "ax = plt.figure(figsize=(12,10))\n",
    "X_train.hist(ax=ax);\n",
    "plt.show(ax);"
   ]
  },
  {
   "cell_type": "markdown",
   "metadata": {},
   "source": [
    "Here columns that I will do some action or manipulating on:\n",
    "- id : as the description above that id is unique value of each correspond which is not have any contribution in causing someone insomnia. Therefore, id column will be better to be dropped."
   ]
  },
  {
   "cell_type": "code",
   "execution_count": 13,
   "metadata": {},
   "outputs": [
    {
     "data": {
      "text/html": [
       "<div>\n",
       "<style scoped>\n",
       "    .dataframe tbody tr th:only-of-type {\n",
       "        vertical-align: middle;\n",
       "    }\n",
       "\n",
       "    .dataframe tbody tr th {\n",
       "        vertical-align: top;\n",
       "    }\n",
       "\n",
       "    .dataframe thead th {\n",
       "        text-align: right;\n",
       "    }\n",
       "</style>\n",
       "<table border=\"1\" class=\"dataframe\">\n",
       "  <thead>\n",
       "    <tr style=\"text-align: right;\">\n",
       "      <th></th>\n",
       "      <th>age</th>\n",
       "      <th>weight</th>\n",
       "      <th>height</th>\n",
       "      <th>sex</th>\n",
       "      <th>stress</th>\n",
       "      <th>doctor</th>\n",
       "      <th>sport</th>\n",
       "      <th>pernicious_1</th>\n",
       "      <th>pernicious_2</th>\n",
       "      <th>ubp</th>\n",
       "      <th>lbp</th>\n",
       "      <th>insomnia</th>\n",
       "    </tr>\n",
       "  </thead>\n",
       "  <tbody>\n",
       "    <tr>\n",
       "      <th>7404</th>\n",
       "      <td>42.275154</td>\n",
       "      <td>66.0</td>\n",
       "      <td>165</td>\n",
       "      <td>1</td>\n",
       "      <td>2</td>\n",
       "      <td>1</td>\n",
       "      <td>1</td>\n",
       "      <td>0</td>\n",
       "      <td>0</td>\n",
       "      <td>110</td>\n",
       "      <td>70</td>\n",
       "      <td>0</td>\n",
       "    </tr>\n",
       "  </tbody>\n",
       "</table>\n",
       "</div>"
      ],
      "text/plain": [
       "            age  weight  height  sex  stress  doctor  sport  pernicious_1  \\\n",
       "7404  42.275154    66.0     165    1       2       1      1             0   \n",
       "\n",
       "      pernicious_2  ubp  lbp  insomnia  \n",
       "7404             0  110   70         0  "
      ]
     },
     "execution_count": 13,
     "metadata": {},
     "output_type": "execute_result"
    }
   ],
   "source": [
    "# Drop id column.\n",
    "X_train.drop('id', axis=1, inplace=True)\n",
    "X_train.sample()"
   ]
  },
  {
   "cell_type": "markdown",
   "metadata": {},
   "source": [
    "***Handle Outlier***"
   ]
  },
  {
   "cell_type": "markdown",
   "metadata": {},
   "source": [
    "Let's have a look whether there is outlier or not on all continues type data of column."
   ]
  },
  {
   "cell_type": "code",
   "execution_count": 14,
   "metadata": {},
   "outputs": [
    {
     "data": {
      "image/png": "[encoded data removed]",
      "text/plain": [
       "<Figure size 864x864 with 5 Axes>"
      ]
     },
     "metadata": {
      "needs_background": "light"
     },
     "output_type": "display_data"
    }
   ],
   "source": [
    "# Displat boxplot.\n",
    "list_col = ['age','weight','height','ubp','lbp']\n",
    "plt.figure(figsize=(12,12))\n",
    "plt.subplots_adjust(hspace=0.5)\n",
    "for i, col_num in enumerate(list_col):\n",
    "    ax = plt.subplot(5,3,i+1)\n",
    "    sns.boxplot(x=X_train[col_num])"
   ]
  },
  {
   "cell_type": "markdown",
   "metadata": {},
   "source": [
    "Handle illogical outliers on weight and height column:\n",
    "- height = according to wikipedia record, the shortest people in the world is 54.6 cm height and the tallest one is 272 cm. Therefore, I will get only instances which is the height range is around 110 cm to 200 cm.\n",
    "- weight = for the lower outlier I will take correspond with weight start from 30 kg only."
   ]
  },
  {
   "cell_type": "code",
   "execution_count": 15,
   "metadata": {},
   "outputs": [
    {
     "data": {
      "image/png": "[encoded data removed]",
      "text/plain": [
       "<Figure size 720x720 with 2 Axes>"
      ]
     },
     "metadata": {
      "needs_background": "light"
     },
     "output_type": "display_data"
    }
   ],
   "source": [
    "# Handle outlier on height.\n",
    "X_train = X_train[(X_train['height'] >= 110) & (X_train['height'] <= 200)]\n",
    "# Hanlde outlier on weight.\n",
    "X_train = X_train[X_train['weight'] >= 30]\n",
    "# Display boxplot\n",
    "plt.figure(figsize=(10,10))\n",
    "for i, col in enumerate(X_train[['height','weight']]):\n",
    "    ax = plt.subplot(4,2,i+1)\n",
    "    sns.boxplot(data = X_train, x=col)\n",
    "plt.show()"
   ]
  },
  {
   "cell_type": "markdown",
   "metadata": {},
   "source": [
    "Handle illogical outliers on ubp and lbp column:\n",
    "- ubp/lbp = there is negative value on blood pressure column which is imposible for human being and accroding to who the way to measure blood pressure consist of two measurement:\n",
    "  1. Systolic (upper number) = range for normal 120 mmHg - 139 mmHg\n",
    "  2. Diastolic (lower number) = range for normal 80 mmHg - 89 mmHg\n",
    "- As there are many values of upb/lbp far from normal range I will take only rows in range : lowest to highest value which is upb(100 - 150) and lbp(60 - 100)\n",
    "- I believe that negative value on ubp/lbp is the human error on recorded data which is probably by accident put the negative before the number. Hence, I will just transform all value on ubp/lbp column as an absolute value."
   ]
  },
  {
   "cell_type": "code",
   "execution_count": 16,
   "metadata": {},
   "outputs": [
    {
     "name": "stdout",
     "output_type": "stream",
     "text": [
      "Ubp min : 1.0\n",
      "Lbp min : 0.0\n"
     ]
    }
   ],
   "source": [
    "# Transform ubl/lbp column value become absolute value.\n",
    "X_train['ubp'] = X_train['ubp'].abs()\n",
    "X_train['lbp'] = X_train['lbp'].abs()\n",
    "print(f\"Ubp min : {X_train.describe().T.loc['ubp','min']}\")\n",
    "print(f\"Lbp min : {X_train.describe().T.loc['lbp','min']}\")"
   ]
  },
  {
   "cell_type": "code",
   "execution_count": 17,
   "metadata": {},
   "outputs": [
    {
     "data": {
      "image/png": "[encoded data removed]",
      "text/plain": [
       "<Figure size 720x720 with 2 Axes>"
      ]
     },
     "metadata": {
      "needs_background": "light"
     },
     "output_type": "display_data"
    }
   ],
   "source": [
    "# Handle outlier on ubp.\n",
    "X_train = X_train[(X_train['ubp'] >= 80) & (X_train['ubp'] <= 170)]\n",
    "# Handle outlier on lbp.\n",
    "X_train = X_train[(X_train['lbp'] >= 50) & (X_train['lbp'] <= 120)]\n",
    "# Display boxplot.\n",
    "plt.figure(figsize=(10,10))\n",
    "for i, col in enumerate(X_train[['ubp','lbp']]):\n",
    "    ax = plt.subplot(4,2,i+1)\n",
    "    sns.boxplot(data=X_train, x=col)\n",
    "plt.show()"
   ]
  },
  {
   "cell_type": "markdown",
   "metadata": {},
   "source": [
    "After removing some outlier, now let's check how many percentage of data already removed and hopely it's not more than 10 percent of original dataset."
   ]
  },
  {
   "cell_type": "code",
   "execution_count": 18,
   "metadata": {},
   "outputs": [
    {
     "name": "stdout",
     "output_type": "stream",
     "text": [
      "We have removed 3.251785714285714 percent data.\n",
      "Total data now is 54179.\n"
     ]
    }
   ],
   "source": [
    "removed_data = ((train.shape[0]-X_train.shape[0])/train.shape[0])*100\n",
    "print(f\"We have removed {removed_data} percent data.\")\n",
    "print(f\"Total data now is {X_train.shape[0]}.\")"
   ]
  },
  {
   "cell_type": "markdown",
   "metadata": {},
   "source": [
    "I have removed data with normal percentage, I'll just continue my exploration. Now, I am going to plot categorical column that have been encoded to be numerical."
   ]
  },
  {
   "cell_type": "code",
   "execution_count": 19,
   "metadata": {},
   "outputs": [
    {
     "data": {
      "image/png": "[encoded data removed]",
      "text/plain": [
       "<Figure size 720x936 with 4 Axes>"
      ]
     },
     "metadata": {
      "needs_background": "light"
     },
     "output_type": "display_data"
    }
   ],
   "source": [
    "# Display countplot.\n",
    "plt.figure(figsize=(10,13))\n",
    "for i, col in enumerate(X_train[['sex','stress','doctor','sport']]):\n",
    "    ax = plt.subplot(4,2,i+1)\n",
    "    sns.countplot(data=X_train, x=col)\n",
    "plt.show()"
   ]
  },
  {
   "cell_type": "markdown",
   "metadata": {},
   "source": [
    "Insight:\n",
    "- Most of the participant in this dataset subject are female.\n",
    "- Only few people have stress level 2 and 3, overall are still on the first level of stress.\n",
    "- The participant who visited doctor often are infrequently, almost entirely visited doctor once only. \n",
    "- However, predominantly the people are active in working out or any kind of sports."
   ]
  },
  {
   "cell_type": "markdown",
   "metadata": {},
   "source": [
    "Let's have a look the correlation between features."
   ]
  },
  {
   "cell_type": "code",
   "execution_count": 20,
   "metadata": {},
   "outputs": [
    {
     "data": {
      "image/png": "[encoded data removed]",
      "text/plain": [
       "<Figure size 792x360 with 2 Axes>"
      ]
     },
     "metadata": {
      "needs_background": "light"
     },
     "output_type": "display_data"
    }
   ],
   "source": [
    "# Display correlation matrix\n",
    "corr = X_train.corr()\n",
    "mask = np.triu(corr)\n",
    "plt.figure(figsize=(11,5))\n",
    "sns.heatmap(data=corr, annot=True,mask= mask )\n",
    "plt.show()"
   ]
  },
  {
   "cell_type": "markdown",
   "metadata": {},
   "source": [
    "I am willing to know what information probably we can get from the features that have high correlation, such as :\n",
    "- blood pressure and insomnia = 0.31 for lbp and 0.42 for ubp,\n",
    "- doctore and stress = 0.46,\n",
    "- sex and height = 0.52,\n",
    "- weight and height = 0.31."
   ]
  },
  {
   "cell_type": "markdown",
   "metadata": {},
   "source": [
    "Eventhough the participant are dominate with female which is two times higher than total of male, but most of the male has bad habit here."
   ]
  },
  {
   "cell_type": "code",
   "execution_count": 21,
   "metadata": {},
   "outputs": [
    {
     "data": {
      "image/png": "[encoded data removed]",
      "text/plain": [
       "<Figure size 432x288 with 1 Axes>"
      ]
     },
     "metadata": {
      "needs_background": "light"
     },
     "output_type": "display_data"
    }
   ],
   "source": [
    "# Blood_pressure and insomnia.\n",
    "sns.scatterplot(data = X_train, x='lbp', y='ubp', hue='insomnia');"
   ]
  },
  {
   "cell_type": "markdown",
   "metadata": {},
   "source": [
    "- lbp and ubp have positive correlation.\n",
    "- If the upper blood pressure increase, it will be followed by the increasing of lower blood pressure aswell.\n",
    "- The people with high blood pressure most likely will have insomnia problem. And the most influencing factor is the upper blood pressure because even the people with low lbp but high ubp they still tends to have insomia."
   ]
  },
  {
   "cell_type": "code",
   "execution_count": 22,
   "metadata": {},
   "outputs": [
    {
     "data": {
      "image/png": "[encoded data removed]",
      "text/plain": [
       "<Figure size 432x288 with 1 Axes>"
      ]
     },
     "metadata": {
      "needs_background": "light"
     },
     "output_type": "display_data"
    }
   ],
   "source": [
    "# Doctor and stress.\n",
    "sns.countplot(data = X_train,x='doctor', hue='stress');"
   ]
  },
  {
   "cell_type": "markdown",
   "metadata": {},
   "source": [
    "- Most people on the first and second level of stress visit doctor once only.\n",
    "- People who visit doctor 3 times are those whose stress level is at level 3 followed by the people with stress level at 1 and only few people with stress level 2 come to see doctor 3 times.\n",
    "- I can conclude that people who has stress problem still rarely visit the doctor."
   ]
  },
  {
   "cell_type": "code",
   "execution_count": 23,
   "metadata": {},
   "outputs": [
    {
     "data": {
      "image/png": "[encoded data removed]",
      "text/plain": [
       "<Figure size 720x288 with 2 Axes>"
      ]
     },
     "metadata": {
      "needs_background": "light"
     },
     "output_type": "display_data"
    }
   ],
   "source": [
    "# Sex and height.\n",
    "fig, axs = plt.subplots(ncols=2, figsize=(10,4))\n",
    "sns.scatterplot(data = X_train, x='height',y='weight', hue='sex', ax=axs[0]);\n",
    "sns.kdeplot(data = X_train, x='height', hue='sex', ax = axs[1]);\n",
    "plt.show();"
   ]
  },
  {
   "cell_type": "markdown",
   "metadata": {},
   "source": [
    "- Generally, male is taller than female when the shorter male is 10 cm higher than the shortest female.\n",
    "- The height of average female is around 165 cm when the male is around 170 cm.\n",
    "- It seem's like the taller a person is the heavier he is."
   ]
  },
  {
   "cell_type": "markdown",
   "metadata": {},
   "source": [
    "Now, let's have a look proportion of dataset based on the target value."
   ]
  },
  {
   "cell_type": "code",
   "execution_count": 24,
   "metadata": {},
   "outputs": [
    {
     "data": {
      "image/png": "[encoded data removed]",
      "text/plain": [
       "<Figure size 720x288 with 2 Axes>"
      ]
     },
     "metadata": {
      "needs_background": "light"
     },
     "output_type": "display_data"
    }
   ],
   "source": [
    "# Display target proportion.\n",
    "fig, axs = plt.subplots(ncols=2, figsize=(10,4))\n",
    "X_train['insomnia'].value_counts().plot(kind='bar', ax=axs[0])\n",
    "X_train['insomnia'].value_counts().plot.pie(autopct='%1.1f%%', startangle = 90, ax=axs[1])\n",
    "plt.show()"
   ]
  },
  {
   "cell_type": "markdown",
   "metadata": {},
   "source": [
    "There are 51 % data of people with have no insomnia problems and 49 % people have insomnia. This is indicate that this dataset classified as fair dataset."
   ]
  },
  {
   "cell_type": "code",
   "execution_count": 25,
   "metadata": {},
   "outputs": [],
   "source": [
    "X_train.to_csv('clean_data.csv', index=False)"
   ]
  },
  {
   "cell_type": "markdown",
   "metadata": {},
   "source": [
    "### FEATURE ENGINERING"
   ]
  },
  {
   "cell_type": "markdown",
   "metadata": {},
   "source": [
    "- Create another column description of healthy or not healthy according to BMI value, and blood pressure column description according to ubp and lbp value.\n",
    "- pernicious_1 and pernicious_2 basically have similar information about someone have bad habit or not. To avoid repetition, combaining this two column into one column without loosing the information will be more efficient."
   ]
  },
  {
   "cell_type": "code",
   "execution_count": 26,
   "metadata": {},
   "outputs": [],
   "source": [
    "# Function for bmi description based on data from wikipedia.\n",
    "def bmi_function(value):\n",
    "    description = 'healthy'\n",
    "    if value >= 18.5 and value <= 24.9:\n",
    "        description = 'healthy'\n",
    "    elif value >= 25 and value <= 29.9:\n",
    "        description = 'overweight'\n",
    "    elif value <= 18.5:\n",
    "        description = 'underweight'\n",
    "    elif value >= 30:\n",
    "        description = 'obese'\n",
    "    return description"
   ]
  },
  {
   "cell_type": "code",
   "execution_count": 27,
   "metadata": {},
   "outputs": [],
   "source": [
    "# Function for bp description based on data from wikipedia.\n",
    "def blood_pressure_description(ubp, lbp):\n",
    "    description = 'normal'\n",
    "    if ubp <= 200 and lbp <= 80:\n",
    "        description = 'normal'\n",
    "    elif ubp >= 120 and ubp <= 129 and lbp <= 80:\n",
    "        description = 'elevated'\n",
    "    elif (ubp >= 30 and ubp <=139) or (lbp >= 80 and lbp <= 89):\n",
    "        description = 'hypertention_1'\n",
    "    elif (ubp >= 140 and ubp <=180) or (lbp >= 90 and lbp <= 120):\n",
    "        description = 'hypertention_2'\n",
    "    elif ubp > 180 or lbp >= 120:\n",
    "        description = 'crisis'\n",
    "    return description"
   ]
  },
  {
   "cell_type": "code",
   "execution_count": 28,
   "metadata": {},
   "outputs": [],
   "source": [
    "\n",
    "# Create custom transformer for new column.\n",
    "class NewColumnTransform(TransformerMixin):\n",
    "    def fit(self, X, y=None,**fit_params):\n",
    "        return self\n",
    "    def transform(self, X,y=None,**fit_params):\n",
    "        # Create BMI column\n",
    "        bmi = X['weight']/np.square(X['height']/100)\n",
    "        X['bmi'] = bmi.tolist()\n",
    "        # Create bmi_description column\n",
    "        X['bmi_description'] = X.bmi.apply(lambda x: bmi_function(x))\n",
    "        # Create bp_description column\n",
    "        X['bp_description'] = X.apply(lambda x: blood_pressure_description(x.ubp, x.lbp), axis=1)\n",
    "        # Combaining column pernicious_1 and pernicious_2.\n",
    "        X['bad_habit'] = X['pernicious_1'] + X['pernicious_2']\n",
    "        X.drop(['pernicious_1','pernicious_2'], axis=1, inplace=True)\n",
    "        return X"
   ]
  },
  {
   "cell_type": "markdown",
   "metadata": {},
   "source": [
    "Find features with direct correlation to target column"
   ]
  },
  {
   "cell_type": "code",
   "execution_count": 29,
   "metadata": {},
   "outputs": [
    {
     "data": {
      "image/png": "[encoded data removed]",
      "text/plain": [
       "<Figure size 432x288 with 1 Axes>"
      ]
     },
     "metadata": {
      "needs_background": "light"
     },
     "output_type": "display_data"
    }
   ],
   "source": [
    "# Display correlation towards target column\n",
    "corr = X_train.corr()['insomnia'].reset_index()\n",
    "# corr.drop(labels=8,axis=0,inplace=True)\n",
    "sns.barplot(data= corr, x='index', y='insomnia',)\n",
    "plt.xticks(rotation = 70)\n",
    "plt.show()"
   ]
  },
  {
   "cell_type": "markdown",
   "metadata": {},
   "source": [
    "I am going to drop columns which have correlation under 0.1 with the target column. For this dataset, as we can see above, sex and sport almost does not have correlation to target column hence I will just drop both. "
   ]
  },
  {
   "cell_type": "code",
   "execution_count": 30,
   "metadata": {},
   "outputs": [
    {
     "data": {
      "text/html": [
       "<div>\n",
       "<style scoped>\n",
       "    .dataframe tbody tr th:only-of-type {\n",
       "        vertical-align: middle;\n",
       "    }\n",
       "\n",
       "    .dataframe tbody tr th {\n",
       "        vertical-align: top;\n",
       "    }\n",
       "\n",
       "    .dataframe thead th {\n",
       "        text-align: right;\n",
       "    }\n",
       "</style>\n",
       "<table border=\"1\" class=\"dataframe\">\n",
       "  <thead>\n",
       "    <tr style=\"text-align: right;\">\n",
       "      <th></th>\n",
       "      <th>age</th>\n",
       "      <th>weight</th>\n",
       "      <th>height</th>\n",
       "      <th>stress</th>\n",
       "      <th>doctor</th>\n",
       "      <th>sport</th>\n",
       "      <th>pernicious_1</th>\n",
       "      <th>pernicious_2</th>\n",
       "      <th>ubp</th>\n",
       "      <th>lbp</th>\n",
       "      <th>insomnia</th>\n",
       "    </tr>\n",
       "  </thead>\n",
       "  <tbody>\n",
       "    <tr>\n",
       "      <th>34948</th>\n",
       "      <td>58.039699</td>\n",
       "      <td>86.0</td>\n",
       "      <td>162</td>\n",
       "      <td>1</td>\n",
       "      <td>1</td>\n",
       "      <td>1</td>\n",
       "      <td>0</td>\n",
       "      <td>0</td>\n",
       "      <td>120</td>\n",
       "      <td>80</td>\n",
       "      <td>0</td>\n",
       "    </tr>\n",
       "    <tr>\n",
       "      <th>52464</th>\n",
       "      <td>59.592060</td>\n",
       "      <td>69.0</td>\n",
       "      <td>161</td>\n",
       "      <td>1</td>\n",
       "      <td>1</td>\n",
       "      <td>0</td>\n",
       "      <td>0</td>\n",
       "      <td>0</td>\n",
       "      <td>160</td>\n",
       "      <td>100</td>\n",
       "      <td>1</td>\n",
       "    </tr>\n",
       "    <tr>\n",
       "      <th>12615</th>\n",
       "      <td>59.707050</td>\n",
       "      <td>80.0</td>\n",
       "      <td>163</td>\n",
       "      <td>1</td>\n",
       "      <td>1</td>\n",
       "      <td>1</td>\n",
       "      <td>0</td>\n",
       "      <td>0</td>\n",
       "      <td>130</td>\n",
       "      <td>100</td>\n",
       "      <td>1</td>\n",
       "    </tr>\n",
       "    <tr>\n",
       "      <th>54265</th>\n",
       "      <td>53.927447</td>\n",
       "      <td>56.0</td>\n",
       "      <td>162</td>\n",
       "      <td>1</td>\n",
       "      <td>1</td>\n",
       "      <td>1</td>\n",
       "      <td>0</td>\n",
       "      <td>0</td>\n",
       "      <td>120</td>\n",
       "      <td>80</td>\n",
       "      <td>0</td>\n",
       "    </tr>\n",
       "    <tr>\n",
       "      <th>1134</th>\n",
       "      <td>41.897331</td>\n",
       "      <td>63.0</td>\n",
       "      <td>158</td>\n",
       "      <td>1</td>\n",
       "      <td>1</td>\n",
       "      <td>1</td>\n",
       "      <td>0</td>\n",
       "      <td>1</td>\n",
       "      <td>120</td>\n",
       "      <td>80</td>\n",
       "      <td>0</td>\n",
       "    </tr>\n",
       "  </tbody>\n",
       "</table>\n",
       "</div>"
      ],
      "text/plain": [
       "             age  weight  height  stress  doctor  sport  pernicious_1  \\\n",
       "34948  58.039699    86.0     162       1       1      1             0   \n",
       "52464  59.592060    69.0     161       1       1      0             0   \n",
       "12615  59.707050    80.0     163       1       1      1             0   \n",
       "54265  53.927447    56.0     162       1       1      1             0   \n",
       "1134   41.897331    63.0     158       1       1      1             0   \n",
       "\n",
       "       pernicious_2  ubp  lbp  insomnia  \n",
       "34948             0  120   80         0  \n",
       "52464             0  160  100         1  \n",
       "12615             0  130  100         1  \n",
       "54265             0  120   80         0  \n",
       "1134              1  120   80         0  "
      ]
     },
     "execution_count": 30,
     "metadata": {},
     "output_type": "execute_result"
    }
   ],
   "source": [
    "# Drop sex and sport column.\n",
    "X_train.drop(['sex',], axis=1, inplace=True)\n",
    "X_train.head()"
   ]
  },
  {
   "cell_type": "markdown",
   "metadata": {},
   "source": [
    "*Split Data*"
   ]
  },
  {
   "cell_type": "code",
   "execution_count": 31,
   "metadata": {},
   "outputs": [],
   "source": [
    "X_train_final = X_train.drop('insomnia', axis=1)\n",
    "y_train_final = X_train.insomnia"
   ]
  },
  {
   "cell_type": "code",
   "execution_count": 32,
   "metadata": {},
   "outputs": [
    {
     "data": {
      "text/html": [
       "<div>\n",
       "<style scoped>\n",
       "    .dataframe tbody tr th:only-of-type {\n",
       "        vertical-align: middle;\n",
       "    }\n",
       "\n",
       "    .dataframe tbody tr th {\n",
       "        vertical-align: top;\n",
       "    }\n",
       "\n",
       "    .dataframe thead th {\n",
       "        text-align: right;\n",
       "    }\n",
       "</style>\n",
       "<table border=\"1\" class=\"dataframe\">\n",
       "  <thead>\n",
       "    <tr style=\"text-align: right;\">\n",
       "      <th></th>\n",
       "      <th>age</th>\n",
       "      <th>weight</th>\n",
       "      <th>height</th>\n",
       "      <th>stress</th>\n",
       "      <th>doctor</th>\n",
       "      <th>sport</th>\n",
       "      <th>pernicious_1</th>\n",
       "      <th>pernicious_2</th>\n",
       "      <th>ubp</th>\n",
       "      <th>lbp</th>\n",
       "    </tr>\n",
       "  </thead>\n",
       "  <tbody>\n",
       "    <tr>\n",
       "      <th>34948</th>\n",
       "      <td>58.039699</td>\n",
       "      <td>86.0</td>\n",
       "      <td>162</td>\n",
       "      <td>1</td>\n",
       "      <td>1</td>\n",
       "      <td>1</td>\n",
       "      <td>0</td>\n",
       "      <td>0</td>\n",
       "      <td>120</td>\n",
       "      <td>80</td>\n",
       "    </tr>\n",
       "    <tr>\n",
       "      <th>52464</th>\n",
       "      <td>59.592060</td>\n",
       "      <td>69.0</td>\n",
       "      <td>161</td>\n",
       "      <td>1</td>\n",
       "      <td>1</td>\n",
       "      <td>0</td>\n",
       "      <td>0</td>\n",
       "      <td>0</td>\n",
       "      <td>160</td>\n",
       "      <td>100</td>\n",
       "    </tr>\n",
       "    <tr>\n",
       "      <th>12615</th>\n",
       "      <td>59.707050</td>\n",
       "      <td>80.0</td>\n",
       "      <td>163</td>\n",
       "      <td>1</td>\n",
       "      <td>1</td>\n",
       "      <td>1</td>\n",
       "      <td>0</td>\n",
       "      <td>0</td>\n",
       "      <td>130</td>\n",
       "      <td>100</td>\n",
       "    </tr>\n",
       "    <tr>\n",
       "      <th>54265</th>\n",
       "      <td>53.927447</td>\n",
       "      <td>56.0</td>\n",
       "      <td>162</td>\n",
       "      <td>1</td>\n",
       "      <td>1</td>\n",
       "      <td>1</td>\n",
       "      <td>0</td>\n",
       "      <td>0</td>\n",
       "      <td>120</td>\n",
       "      <td>80</td>\n",
       "    </tr>\n",
       "    <tr>\n",
       "      <th>1134</th>\n",
       "      <td>41.897331</td>\n",
       "      <td>63.0</td>\n",
       "      <td>158</td>\n",
       "      <td>1</td>\n",
       "      <td>1</td>\n",
       "      <td>1</td>\n",
       "      <td>0</td>\n",
       "      <td>1</td>\n",
       "      <td>120</td>\n",
       "      <td>80</td>\n",
       "    </tr>\n",
       "    <tr>\n",
       "      <th>...</th>\n",
       "      <td>...</td>\n",
       "      <td>...</td>\n",
       "      <td>...</td>\n",
       "      <td>...</td>\n",
       "      <td>...</td>\n",
       "      <td>...</td>\n",
       "      <td>...</td>\n",
       "      <td>...</td>\n",
       "      <td>...</td>\n",
       "      <td>...</td>\n",
       "    </tr>\n",
       "    <tr>\n",
       "      <th>408</th>\n",
       "      <td>50.239562</td>\n",
       "      <td>70.0</td>\n",
       "      <td>168</td>\n",
       "      <td>2</td>\n",
       "      <td>2</td>\n",
       "      <td>0</td>\n",
       "      <td>0</td>\n",
       "      <td>0</td>\n",
       "      <td>120</td>\n",
       "      <td>80</td>\n",
       "    </tr>\n",
       "    <tr>\n",
       "      <th>61218</th>\n",
       "      <td>62.401095</td>\n",
       "      <td>75.0</td>\n",
       "      <td>160</td>\n",
       "      <td>1</td>\n",
       "      <td>2</td>\n",
       "      <td>0</td>\n",
       "      <td>0</td>\n",
       "      <td>0</td>\n",
       "      <td>120</td>\n",
       "      <td>80</td>\n",
       "    </tr>\n",
       "    <tr>\n",
       "      <th>22447</th>\n",
       "      <td>55.441478</td>\n",
       "      <td>78.0</td>\n",
       "      <td>158</td>\n",
       "      <td>3</td>\n",
       "      <td>3</td>\n",
       "      <td>1</td>\n",
       "      <td>0</td>\n",
       "      <td>0</td>\n",
       "      <td>120</td>\n",
       "      <td>80</td>\n",
       "    </tr>\n",
       "    <tr>\n",
       "      <th>40818</th>\n",
       "      <td>58.061602</td>\n",
       "      <td>89.0</td>\n",
       "      <td>180</td>\n",
       "      <td>1</td>\n",
       "      <td>1</td>\n",
       "      <td>1</td>\n",
       "      <td>1</td>\n",
       "      <td>0</td>\n",
       "      <td>120</td>\n",
       "      <td>80</td>\n",
       "    </tr>\n",
       "    <tr>\n",
       "      <th>32152</th>\n",
       "      <td>52.355921</td>\n",
       "      <td>60.0</td>\n",
       "      <td>160</td>\n",
       "      <td>1</td>\n",
       "      <td>3</td>\n",
       "      <td>1</td>\n",
       "      <td>0</td>\n",
       "      <td>0</td>\n",
       "      <td>120</td>\n",
       "      <td>80</td>\n",
       "    </tr>\n",
       "  </tbody>\n",
       "</table>\n",
       "<p>54179 rows × 10 columns</p>\n",
       "</div>"
      ],
      "text/plain": [
       "             age  weight  height  stress  doctor  sport  pernicious_1  \\\n",
       "34948  58.039699    86.0     162       1       1      1             0   \n",
       "52464  59.592060    69.0     161       1       1      0             0   \n",
       "12615  59.707050    80.0     163       1       1      1             0   \n",
       "54265  53.927447    56.0     162       1       1      1             0   \n",
       "1134   41.897331    63.0     158       1       1      1             0   \n",
       "...          ...     ...     ...     ...     ...    ...           ...   \n",
       "408    50.239562    70.0     168       2       2      0             0   \n",
       "61218  62.401095    75.0     160       1       2      0             0   \n",
       "22447  55.441478    78.0     158       3       3      1             0   \n",
       "40818  58.061602    89.0     180       1       1      1             1   \n",
       "32152  52.355921    60.0     160       1       3      1             0   \n",
       "\n",
       "       pernicious_2  ubp  lbp  \n",
       "34948             0  120   80  \n",
       "52464             0  160  100  \n",
       "12615             0  130  100  \n",
       "54265             0  120   80  \n",
       "1134              1  120   80  \n",
       "...             ...  ...  ...  \n",
       "408               0  120   80  \n",
       "61218             0  120   80  \n",
       "22447             0  120   80  \n",
       "40818             0  120   80  \n",
       "32152             0  120   80  \n",
       "\n",
       "[54179 rows x 10 columns]"
      ]
     },
     "execution_count": 32,
     "metadata": {},
     "output_type": "execute_result"
    }
   ],
   "source": [
    "X_train_final"
   ]
  },
  {
   "cell_type": "markdown",
   "metadata": {},
   "source": [
    "*Preprocessing*"
   ]
  },
  {
   "cell_type": "code",
   "execution_count": 33,
   "metadata": {},
   "outputs": [],
   "source": [
    "num_attribute = ['age','ubp','lbp','weight','bmi']\n",
    "cat_attribute = ['bmi_description', 'bp_description']\n",
    "tranformer = ColumnTransformer([\n",
    "    ('cat', OneHotEncoder(handle_unknown='ignore'), cat_attribute),\n",
    "    ('num', MinMaxScaler(),num_attribute),\n",
    "])"
   ]
  },
  {
   "cell_type": "code",
   "execution_count": 34,
   "metadata": {},
   "outputs": [],
   "source": [
    "# Create pipeline function.\n",
    "preprocess = Pipeline([\n",
    "    ('column_adder', NewColumnTransform()),\n",
    "    ('column_transform', tranformer),\n",
    "    ('std_scaler', StandardScaler())\n",
    "])\n",
    "prepared_data = preprocess.fit_transform(X_train_final)\n",
    "prepared_label = y_train_final"
   ]
  },
  {
   "cell_type": "markdown",
   "metadata": {},
   "source": [
    "### DEFINE, TRAIN, AND EVALUATE MODEL"
   ]
  },
  {
   "cell_type": "code",
   "execution_count": 35,
   "metadata": {},
   "outputs": [],
   "source": [
    "# Define model with deafult parameter.\n",
    "logreg = LogisticRegression()\n",
    "ranfor = RandomForestClassifier()\n",
    "svc = SVC()\n",
    "knn = KNeighborsClassifier()\n",
    "ganbay = GaussianNB()\n",
    "adaboost = AdaBoostClassifier()"
   ]
  },
  {
   "cell_type": "markdown",
   "metadata": {},
   "source": [
    "*Cross Validation Score*"
   ]
  },
  {
   "cell_type": "code",
   "execution_count": 36,
   "metadata": {},
   "outputs": [],
   "source": [
    "# Here I will create function to display cross validation score of given model.\n",
    "def display_scores(scores):\n",
    "    print(\"Scores:\", scores)\n",
    "    print(\"Mean:\", scores.mean())\n",
    "    print(\"Standard deviation:\", scores.std())"
   ]
  },
  {
   "cell_type": "code",
   "execution_count": 37,
   "metadata": {},
   "outputs": [
    {
     "name": "stdout",
     "output_type": "stream",
     "text": [
      "Scores: [0.71779254 0.71336286 0.71179402 0.71400886 0.71610521]\n",
      "Mean: 0.7146127003546436\n",
      "Standard deviation: 0.002107637217956529\n"
     ]
    }
   ],
   "source": [
    "# Cross validation Logistic Regression\n",
    "logreg_model = cross_val_score(logreg,prepared_data,prepared_label, cv =5, scoring = 'accuracy')\n",
    "display_scores(logreg_model)"
   ]
  },
  {
   "cell_type": "code",
   "execution_count": 38,
   "metadata": {},
   "outputs": [
    {
     "name": "stdout",
     "output_type": "stream",
     "text": [
      "Scores: [0.67940199 0.68586194 0.67967885 0.68475452 0.68020305]\n",
      "Mean: 0.681980070192796\n",
      "Standard deviation: 0.0027519602975442387\n"
     ]
    }
   ],
   "source": [
    "# # Cross validation Random Forest Classifier\n",
    "ranfor_model = cross_val_score(ranfor,prepared_data,prepared_label, cv =5, scoring = 'accuracy')\n",
    "display_scores(ranfor_model)"
   ]
  },
  {
   "cell_type": "code",
   "execution_count": 39,
   "metadata": {},
   "outputs": [],
   "source": [
    "# Cross validation SVC\n",
    "svc_model = cross_val_score(svc,prepared_data,y_train_final, cv =5, scoring = 'accuracy')\n",
    "display_scores(svc_model)"
   ]
  },
  {
   "cell_type": "code",
   "execution_count": 40,
   "metadata": {},
   "outputs": [
    {
     "name": "stdout",
     "output_type": "stream",
     "text": [
      "Scores: [0.678756   0.6762643  0.67727944 0.68078627 0.68047993]\n",
      "Mean: 0.6787131871525687\n",
      "Standard deviation: 0.0017591773998428325\n"
     ]
    }
   ],
   "source": [
    "# Cross validation KNeighborsClassifier\n",
    "knn_model = cross_val_score(knn,prepared_data,prepared_label, cv =5, scoring = 'accuracy')\n",
    "display_scores(knn_model)"
   ]
  },
  {
   "cell_type": "code",
   "execution_count": 41,
   "metadata": {},
   "outputs": [
    {
     "name": "stdout",
     "output_type": "stream",
     "text": [
      "Scores: [0.67986342 0.6836471  0.6879845  0.68706165 0.68057222]\n",
      "Mean: 0.6838257765267564\n",
      "Standard deviation: 0.0032888795147220286\n"
     ]
    }
   ],
   "source": [
    "# Cross validation GaussianNB\n",
    "ganbay = cross_val_score(ganbay,prepared_data,prepared_label, cv =5, scoring = 'accuracy')\n",
    "display_scores(ganbay)"
   ]
  },
  {
   "cell_type": "code",
   "execution_count": 42,
   "metadata": {},
   "outputs": [
    {
     "name": "stdout",
     "output_type": "stream",
     "text": [
      "Scores: [0.71363972 0.71862311 0.71751569 0.72000738 0.71822796]\n",
      "Mean: 0.7176027727568278\n",
      "Standard deviation: 0.0021413768558430023\n"
     ]
    }
   ],
   "source": [
    "# Cross validation AdaBoostClassifier\n",
    "adaboost = cross_val_score(adaboost,prepared_data,prepared_label, cv =5, scoring = 'accuracy')\n",
    "display_scores(adaboost)"
   ]
  },
  {
   "cell_type": "markdown",
   "metadata": {},
   "source": [
    "### HYPERPARAMETER TUNING"
   ]
  },
  {
   "cell_type": "code",
   "execution_count": 43,
   "metadata": {},
   "outputs": [],
   "source": [
    "parameter = {\n",
    "    'solver' : ['newton-cg', 'liblinear', 'sag', 'saga'],\n",
    "    'C' : [0.1,1,0.01,10,100],\n",
    "    'max_iter' : [100,1000,10000],\n",
    "    'multi_class' : ['auto','ovr','multinomial'],\n",
    "}\n",
    "\n",
    "grid = GridSearchCV(logreg, param_grid = parameter,cv= 5)"
   ]
  },
  {
   "cell_type": "code",
   "execution_count": 44,
   "metadata": {},
   "outputs": [
    {
     "name": "stdout",
     "output_type": "stream",
     "text": [
      "Best parameter: {'C': 0.01, 'max_iter': 1000, 'multi_class': 'auto', 'solver': 'sag'}\n",
      "Best score: 0.7148157307087777\n"
     ]
    }
   ],
   "source": [
    "# Training model\n",
    "grid.fit(prepared_data, prepared_label)\n",
    "# Print out the best params and score\n",
    "print(f\"Best parameter: {grid.best_params_}\")\n",
    "print(f\"Best score: {grid.best_score_}\")"
   ]
  },
  {
   "cell_type": "markdown",
   "metadata": {},
   "source": [
    "*Create Final Model*"
   ]
  },
  {
   "cell_type": "code",
   "execution_count": 45,
   "metadata": {},
   "outputs": [
    {
     "data": {
      "text/plain": [
       "LogisticRegression(C=0.01, max_iter=10000, multi_class='multinomial',\n",
       "                   solver='sag')"
      ]
     },
     "execution_count": 45,
     "metadata": {},
     "output_type": "execute_result"
    }
   ],
   "source": [
    "final_model = LogisticRegression(C=0.01, max_iter=10000, multi_class='multinomial', solver='sag')\n",
    "final_model.fit(prepared_data,prepared_label)"
   ]
  },
  {
   "cell_type": "markdown",
   "metadata": {},
   "source": [
    "*Final Model Evaluation*"
   ]
  },
  {
   "cell_type": "code",
   "execution_count": 46,
   "metadata": {},
   "outputs": [],
   "source": [
    "# Predict data test\n",
    "X_val = X_test.drop(['insomnia','id','sex'], axis=1)\n",
    "y_val = X_test.insomnia\n",
    "\n",
    "X_val_scaled = preprocess.transform(X_val)\n",
    "y_val_predict = final_model.predict(X_val_scaled)\n",
    "acc_score = accuracy_score(y_val, y_val_predict)"
   ]
  },
  {
   "cell_type": "code",
   "execution_count": 47,
   "metadata": {},
   "outputs": [
    {
     "name": "stdout",
     "output_type": "stream",
     "text": [
      "Data test accuracy score: 0.7116428571428571\n"
     ]
    },
    {
     "data": {
      "image/png": "[encoded data removed]",
      "text/plain": [
       "<Figure size 432x288 with 2 Axes>"
      ]
     },
     "metadata": {
      "needs_background": "light"
     },
     "output_type": "display_data"
    }
   ],
   "source": [
    "print(f\"Data test accuracy score: {acc_score}\")\n",
    "plot_confusion_matrix(final_model, X_val_scaled, y_val)\n",
    "plt.show()"
   ]
  },
  {
   "cell_type": "code",
   "execution_count": 48,
   "metadata": {},
   "outputs": [
    {
     "name": "stdout",
     "output_type": "stream",
     "text": [
      "              precision    recall  f1-score   support\n",
      "\n",
      "           0       0.68      0.79      0.73      7004\n",
      "           1       0.75      0.63      0.69      6996\n",
      "\n",
      "    accuracy                           0.71     14000\n",
      "   macro avg       0.72      0.71      0.71     14000\n",
      "weighted avg       0.72      0.71      0.71     14000\n",
      "\n"
     ]
    }
   ],
   "source": [
    "print(classification_report(y_val, y_val_predict))"
   ]
  },
  {
   "cell_type": "markdown",
   "metadata": {},
   "source": [
    "### MODEL INFERENCE"
   ]
  },
  {
   "cell_type": "markdown",
   "metadata": {},
   "source": [
    "#### Loading New Data for Testing"
   ]
  },
  {
   "cell_type": "code",
   "execution_count": 49,
   "metadata": {},
   "outputs": [
    {
     "data": {
      "text/plain": [
       "(30000, 10)"
      ]
     },
     "execution_count": 49,
     "metadata": {},
     "output_type": "execute_result"
    }
   ],
   "source": [
    "new_data_raw = pd.read_csv(\"TEST.csv\")\n",
    "new_data = new_data_raw.copy()\n",
    "new_data = new_data.drop(['id','sex'], axis=1)\n",
    "new_data.shape"
   ]
  },
  {
   "cell_type": "code",
   "execution_count": 50,
   "metadata": {},
   "outputs": [
    {
     "data": {
      "text/html": [
       "<div>\n",
       "<style scoped>\n",
       "    .dataframe tbody tr th:only-of-type {\n",
       "        vertical-align: middle;\n",
       "    }\n",
       "\n",
       "    .dataframe tbody tr th {\n",
       "        vertical-align: top;\n",
       "    }\n",
       "\n",
       "    .dataframe thead th {\n",
       "        text-align: right;\n",
       "    }\n",
       "</style>\n",
       "<table border=\"1\" class=\"dataframe\">\n",
       "  <thead>\n",
       "    <tr style=\"text-align: right;\">\n",
       "      <th></th>\n",
       "      <th>age</th>\n",
       "      <th>weight</th>\n",
       "      <th>height</th>\n",
       "      <th>stress</th>\n",
       "      <th>doctor</th>\n",
       "      <th>sport</th>\n",
       "      <th>pernicious_1</th>\n",
       "      <th>pernicious_2</th>\n",
       "      <th>ubp</th>\n",
       "      <th>lbp</th>\n",
       "    </tr>\n",
       "  </thead>\n",
       "  <tbody>\n",
       "    <tr>\n",
       "      <th>0</th>\n",
       "      <td>51.712526</td>\n",
       "      <td>85.0</td>\n",
       "      <td>154</td>\n",
       "      <td>1</td>\n",
       "      <td>1</td>\n",
       "      <td>1.0</td>\n",
       "      <td>0.0</td>\n",
       "      <td>0.0</td>\n",
       "      <td>130</td>\n",
       "      <td>80</td>\n",
       "    </tr>\n",
       "    <tr>\n",
       "      <th>1</th>\n",
       "      <td>52.134155</td>\n",
       "      <td>69.0</td>\n",
       "      <td>170</td>\n",
       "      <td>1</td>\n",
       "      <td>1</td>\n",
       "      <td>1.0</td>\n",
       "      <td>NaN</td>\n",
       "      <td>0.0</td>\n",
       "      <td>130</td>\n",
       "      <td>90</td>\n",
       "    </tr>\n",
       "    <tr>\n",
       "      <th>2</th>\n",
       "      <td>55.939767</td>\n",
       "      <td>70.0</td>\n",
       "      <td>160</td>\n",
       "      <td>1</td>\n",
       "      <td>1</td>\n",
       "      <td>0.0</td>\n",
       "      <td>0.0</td>\n",
       "      <td>0.0</td>\n",
       "      <td>120</td>\n",
       "      <td>75</td>\n",
       "    </tr>\n",
       "    <tr>\n",
       "      <th>3</th>\n",
       "      <td>49.645448</td>\n",
       "      <td>94.0</td>\n",
       "      <td>185</td>\n",
       "      <td>1</td>\n",
       "      <td>1</td>\n",
       "      <td>1.0</td>\n",
       "      <td>NaN</td>\n",
       "      <td>0.0</td>\n",
       "      <td>130</td>\n",
       "      <td>90</td>\n",
       "    </tr>\n",
       "    <tr>\n",
       "      <th>4</th>\n",
       "      <td>44.060233</td>\n",
       "      <td>76.0</td>\n",
       "      <td>170</td>\n",
       "      <td>1</td>\n",
       "      <td>1</td>\n",
       "      <td>1.0</td>\n",
       "      <td>0.0</td>\n",
       "      <td>0.0</td>\n",
       "      <td>120</td>\n",
       "      <td>80</td>\n",
       "    </tr>\n",
       "  </tbody>\n",
       "</table>\n",
       "</div>"
      ],
      "text/plain": [
       "         age  weight  height  stress  doctor  sport  pernicious_1  \\\n",
       "0  51.712526    85.0     154       1       1    1.0           0.0   \n",
       "1  52.134155    69.0     170       1       1    1.0           NaN   \n",
       "2  55.939767    70.0     160       1       1    0.0           0.0   \n",
       "3  49.645448    94.0     185       1       1    1.0           NaN   \n",
       "4  44.060233    76.0     170       1       1    1.0           0.0   \n",
       "\n",
       "   pernicious_2  ubp  lbp  \n",
       "0           0.0  130   80  \n",
       "1           0.0  130   90  \n",
       "2           0.0  120   75  \n",
       "3           0.0  130   90  \n",
       "4           0.0  120   80  "
      ]
     },
     "execution_count": 50,
     "metadata": {},
     "output_type": "execute_result"
    }
   ],
   "source": [
    "new_data.head()"
   ]
  },
  {
   "cell_type": "markdown",
   "metadata": {},
   "source": [
    "*Missing values on new data*"
   ]
  },
  {
   "cell_type": "code",
   "execution_count": 51,
   "metadata": {},
   "outputs": [
    {
     "name": "stdout",
     "output_type": "stream",
     "text": [
      "    column_name  missing %     type  unique\n",
      "0           age   0.000000  float64    7244\n",
      "1        weight   0.000000  float64     203\n",
      "2        height   0.000000    int64      87\n",
      "3        stress   0.000000    int64       3\n",
      "4        doctor   0.000000    int64       3\n",
      "5         sport   9.656667  float64       2\n",
      "6  pernicious_1  10.100000  float64       2\n",
      "7  pernicious_2  10.103333  float64       2\n",
      "8           ubp   0.000000    int64     134\n",
      "9           lbp   0.000000    int64     113\n"
     ]
    }
   ],
   "source": [
    "show_general_table(new_data)"
   ]
  },
  {
   "cell_type": "markdown",
   "metadata": {},
   "source": [
    "show_general_table(df_test)"
   ]
  },
  {
   "cell_type": "markdown",
   "metadata": {},
   "source": [
    "- We found 3 features with missing points which is sport (9.6% missings), pernicious_1 (10.1% missings), and pernicious_2 (10.1 % missings) column.\n",
    "- Total and data types of columns are similar to data train except for insomnia column which is not included in this data test.\n",
    "- Data test consist of 30000 instances with 12 columns/features exclude it's target."
   ]
  },
  {
   "cell_type": "code",
   "execution_count": 52,
   "metadata": {},
   "outputs": [
    {
     "data": {
      "text/html": [
       "<div>\n",
       "<style scoped>\n",
       "    .dataframe tbody tr th:only-of-type {\n",
       "        vertical-align: middle;\n",
       "    }\n",
       "\n",
       "    .dataframe tbody tr th {\n",
       "        vertical-align: top;\n",
       "    }\n",
       "\n",
       "    .dataframe thead th {\n",
       "        text-align: right;\n",
       "    }\n",
       "</style>\n",
       "<table border=\"1\" class=\"dataframe\">\n",
       "  <thead>\n",
       "    <tr style=\"text-align: right;\">\n",
       "      <th></th>\n",
       "      <th>age</th>\n",
       "      <th>weight</th>\n",
       "      <th>height</th>\n",
       "      <th>stress</th>\n",
       "      <th>doctor</th>\n",
       "      <th>sport</th>\n",
       "      <th>pernicious_1</th>\n",
       "      <th>pernicious_2</th>\n",
       "      <th>ubp</th>\n",
       "      <th>lbp</th>\n",
       "    </tr>\n",
       "  </thead>\n",
       "  <tbody>\n",
       "    <tr>\n",
       "      <th>0</th>\n",
       "      <td>51.712526</td>\n",
       "      <td>85.0</td>\n",
       "      <td>154</td>\n",
       "      <td>1</td>\n",
       "      <td>1</td>\n",
       "      <td>1.0</td>\n",
       "      <td>0.0</td>\n",
       "      <td>0.0</td>\n",
       "      <td>130</td>\n",
       "      <td>80</td>\n",
       "    </tr>\n",
       "    <tr>\n",
       "      <th>1</th>\n",
       "      <td>52.134155</td>\n",
       "      <td>69.0</td>\n",
       "      <td>170</td>\n",
       "      <td>1</td>\n",
       "      <td>1</td>\n",
       "      <td>1.0</td>\n",
       "      <td>NaN</td>\n",
       "      <td>0.0</td>\n",
       "      <td>130</td>\n",
       "      <td>90</td>\n",
       "    </tr>\n",
       "    <tr>\n",
       "      <th>2</th>\n",
       "      <td>55.939767</td>\n",
       "      <td>70.0</td>\n",
       "      <td>160</td>\n",
       "      <td>1</td>\n",
       "      <td>1</td>\n",
       "      <td>0.0</td>\n",
       "      <td>0.0</td>\n",
       "      <td>0.0</td>\n",
       "      <td>120</td>\n",
       "      <td>75</td>\n",
       "    </tr>\n",
       "    <tr>\n",
       "      <th>3</th>\n",
       "      <td>49.645448</td>\n",
       "      <td>94.0</td>\n",
       "      <td>185</td>\n",
       "      <td>1</td>\n",
       "      <td>1</td>\n",
       "      <td>1.0</td>\n",
       "      <td>NaN</td>\n",
       "      <td>0.0</td>\n",
       "      <td>130</td>\n",
       "      <td>90</td>\n",
       "    </tr>\n",
       "    <tr>\n",
       "      <th>4</th>\n",
       "      <td>44.060233</td>\n",
       "      <td>76.0</td>\n",
       "      <td>170</td>\n",
       "      <td>1</td>\n",
       "      <td>1</td>\n",
       "      <td>1.0</td>\n",
       "      <td>0.0</td>\n",
       "      <td>0.0</td>\n",
       "      <td>120</td>\n",
       "      <td>80</td>\n",
       "    </tr>\n",
       "  </tbody>\n",
       "</table>\n",
       "</div>"
      ],
      "text/plain": [
       "         age  weight  height  stress  doctor  sport  pernicious_1  \\\n",
       "0  51.712526    85.0     154       1       1    1.0           0.0   \n",
       "1  52.134155    69.0     170       1       1    1.0           NaN   \n",
       "2  55.939767    70.0     160       1       1    0.0           0.0   \n",
       "3  49.645448    94.0     185       1       1    1.0           NaN   \n",
       "4  44.060233    76.0     170       1       1    1.0           0.0   \n",
       "\n",
       "   pernicious_2  ubp  lbp  \n",
       "0           0.0  130   80  \n",
       "1           0.0  130   90  \n",
       "2           0.0  120   75  \n",
       "3           0.0  130   90  \n",
       "4           0.0  120   80  "
      ]
     },
     "execution_count": 52,
     "metadata": {},
     "output_type": "execute_result"
    }
   ],
   "source": [
    "new_data.head()"
   ]
  },
  {
   "cell_type": "code",
   "execution_count": 53,
   "metadata": {},
   "outputs": [
    {
     "data": {
      "text/html": [
       "<div>\n",
       "<style scoped>\n",
       "    .dataframe tbody tr th:only-of-type {\n",
       "        vertical-align: middle;\n",
       "    }\n",
       "\n",
       "    .dataframe tbody tr th {\n",
       "        vertical-align: top;\n",
       "    }\n",
       "\n",
       "    .dataframe thead th {\n",
       "        text-align: right;\n",
       "    }\n",
       "</style>\n",
       "<table border=\"1\" class=\"dataframe\">\n",
       "  <thead>\n",
       "    <tr style=\"text-align: right;\">\n",
       "      <th></th>\n",
       "      <th>age</th>\n",
       "      <th>weight</th>\n",
       "      <th>height</th>\n",
       "      <th>stress</th>\n",
       "      <th>doctor</th>\n",
       "      <th>sport</th>\n",
       "      <th>pernicious_1</th>\n",
       "      <th>pernicious_2</th>\n",
       "      <th>ubp</th>\n",
       "      <th>lbp</th>\n",
       "    </tr>\n",
       "  </thead>\n",
       "  <tbody>\n",
       "    <tr>\n",
       "      <th>0</th>\n",
       "      <td>51.712526</td>\n",
       "      <td>85.0</td>\n",
       "      <td>154</td>\n",
       "      <td>1</td>\n",
       "      <td>1</td>\n",
       "      <td>1.0</td>\n",
       "      <td>0.0</td>\n",
       "      <td>0.0</td>\n",
       "      <td>130</td>\n",
       "      <td>80</td>\n",
       "    </tr>\n",
       "    <tr>\n",
       "      <th>1</th>\n",
       "      <td>52.134155</td>\n",
       "      <td>69.0</td>\n",
       "      <td>170</td>\n",
       "      <td>1</td>\n",
       "      <td>1</td>\n",
       "      <td>1.0</td>\n",
       "      <td>0.0</td>\n",
       "      <td>0.0</td>\n",
       "      <td>130</td>\n",
       "      <td>90</td>\n",
       "    </tr>\n",
       "    <tr>\n",
       "      <th>2</th>\n",
       "      <td>55.939767</td>\n",
       "      <td>70.0</td>\n",
       "      <td>160</td>\n",
       "      <td>1</td>\n",
       "      <td>1</td>\n",
       "      <td>0.0</td>\n",
       "      <td>0.0</td>\n",
       "      <td>0.0</td>\n",
       "      <td>120</td>\n",
       "      <td>75</td>\n",
       "    </tr>\n",
       "    <tr>\n",
       "      <th>3</th>\n",
       "      <td>49.645448</td>\n",
       "      <td>94.0</td>\n",
       "      <td>185</td>\n",
       "      <td>1</td>\n",
       "      <td>1</td>\n",
       "      <td>1.0</td>\n",
       "      <td>0.0</td>\n",
       "      <td>0.0</td>\n",
       "      <td>130</td>\n",
       "      <td>90</td>\n",
       "    </tr>\n",
       "    <tr>\n",
       "      <th>4</th>\n",
       "      <td>44.060233</td>\n",
       "      <td>76.0</td>\n",
       "      <td>170</td>\n",
       "      <td>1</td>\n",
       "      <td>1</td>\n",
       "      <td>1.0</td>\n",
       "      <td>0.0</td>\n",
       "      <td>0.0</td>\n",
       "      <td>120</td>\n",
       "      <td>80</td>\n",
       "    </tr>\n",
       "  </tbody>\n",
       "</table>\n",
       "</div>"
      ],
      "text/plain": [
       "         age  weight  height  stress  doctor  sport  pernicious_1  \\\n",
       "0  51.712526    85.0     154       1       1    1.0           0.0   \n",
       "1  52.134155    69.0     170       1       1    1.0           0.0   \n",
       "2  55.939767    70.0     160       1       1    0.0           0.0   \n",
       "3  49.645448    94.0     185       1       1    1.0           0.0   \n",
       "4  44.060233    76.0     170       1       1    1.0           0.0   \n",
       "\n",
       "   pernicious_2  ubp  lbp  \n",
       "0           0.0  130   80  \n",
       "1           0.0  130   90  \n",
       "2           0.0  120   75  \n",
       "3           0.0  130   90  \n",
       "4           0.0  120   80  "
      ]
     },
     "execution_count": 53,
     "metadata": {},
     "output_type": "execute_result"
    }
   ],
   "source": [
    "# Fill missing value\n",
    "new_data.sport.fillna(new_data.sport.mode()[0], inplace=True)\n",
    "new_data['pernicious_1'].fillna(new_data['pernicious_1'].mode()[0], inplace=True, axis=0)\n",
    "new_data['pernicious_2'].fillna(new_data['pernicious_2'].mode()[0], inplace=True, axis=0)\n",
    "new_data.head()\n"
   ]
  },
  {
   "cell_type": "code",
   "execution_count": 54,
   "metadata": {},
   "outputs": [],
   "source": [
    "scaled_new_data = preprocess.transform(new_data)"
   ]
  },
  {
   "cell_type": "code",
   "execution_count": 55,
   "metadata": {},
   "outputs": [
    {
     "data": {
      "text/plain": [
       "array([1, 1, 0, ..., 0, 0, 0])"
      ]
     },
     "execution_count": 55,
     "metadata": {},
     "output_type": "execute_result"
    }
   ],
   "source": [
    "final_model.predict(scaled_new_data)"
   ]
  },
  {
   "cell_type": "code",
   "execution_count": 56,
   "metadata": {},
   "outputs": [],
   "source": [
    "# Create pipeline for model production\n",
    "full_pipeline_with_predictor = Pipeline([\n",
    "        (\"preparation\", preprocess),\n",
    "        (\"linear\", final_model)\n",
    "    ])\n"
   ]
  },
  {
   "cell_type": "code",
   "execution_count": 57,
   "metadata": {},
   "outputs": [],
   "source": [
    "my_model = full_pipeline_with_predictor\n",
    "joblib.dump(my_model, \"my_model.pkl\")"
   ]
  },
  {
   "cell_type": "markdown",
   "metadata": {},
   "source": [
    "### CONCLUSION"
   ]
  },
  {
   "cell_type": "markdown",
   "metadata": {},
   "source": [
    "***Overall***"
   ]
  },
  {
   "cell_type": "markdown",
   "metadata": {},
   "source": [
    "- The list of data manipulation done on data training:\n",
    "  1. Create bmi column based on weight and height,\n",
    "  2. Create bmi_description column based on bmi value,\n",
    "  3. Create bp_description column based on ubp and lbp value.\n",
    "- Handling outlier manually on some columns weight, height, ubp, and lbp by taking only the instances with logical value of each column.\n",
    "- Total train data removed was 3.3 % and finally remaind 54144 data using on modelling. \n",
    "- Data train can be classified as fair or balanced data since the ratio of target class is 51% : 49%.\n",
    "- Most of the correspondent are female with average age are 53.\n",
    "- According to data,the most influence factor of people got insomnia was blood pressure, stress problem. Those who have hight blood pressure and stress level more likely will have insomnia problems."
   ]
  },
  {
   "cell_type": "markdown",
   "metadata": {},
   "source": [
    "***Model***"
   ]
  },
  {
   "cell_type": "markdown",
   "metadata": {},
   "source": [
    "- After train some model using this dataset, the highest cross validation score with number of kfold 5 was 0.71 using LinearRegression and AdaboostClassifier when others model like RandomForestClassifier, KNeighborClassifier and GaussianClassifier with only 0.68.\n",
    "- Commit hyperparameter tuning of LogiticRegression model did not increase score significantly, it is just increase score value around 0.01 either on accuracy score or cross validation score.\n",
    "- Not only hyperparameter tuning done in order to increase score, adding more features predictor such as bmi, bmi_description, bp_prediction did not give any impact on model.\n",
    "- Personally, I think that the low of predictor features power are the highest influencing factor of model being not be able to learn optimally. As we know that, blood_pressure is the only highest predictor correlation we have in this dataset which is not enough for model to learn and detect the pattern.\n",
    "- Therefore, the improvement is visible for this dataset by adding more powerfull predictor features which surely have highly correlated to predict someone insomnia problem or by better understanding on each model algorith for doing tuning hyperparameter of each possible model."
   ]
  },
  {
   "cell_type": "markdown",
   "metadata": {},
   "source": [
    "*Note: I have submitted this notebook on [kaggle](https://www.kaggle.com/c/idao-2022-bootcamp-insomnia/leaderboard) competition and got score of 0.65.*  \n"
   ]
  }
 ],
 "metadata": {
  "kernelspec": {
   "display_name": "deeplearning",
   "language": "python",
   "name": "python3"
  },
  "language_info": {
   "codemirror_mode": {
    "name": "ipython",
    "version": 3
   },
   "file_extension": ".py",
   "mimetype": "text/x-python",
   "name": "python",
   "nbconvert_exporter": "python",
   "pygments_lexer": "ipython3",
   "version": "3.9.15"
  }
 },
 "nbformat": 4,
 "nbformat_minor": 2
}
